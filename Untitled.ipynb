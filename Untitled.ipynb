{
 "cells": [
  {
   "cell_type": "code",
   "execution_count": 7,
   "metadata": {
    "collapsed": false
   },
   "outputs": [
    {
     "name": "stdout",
     "output_type": "stream",
     "text": [
      "[[  0.   0.   5.  13.   9.   1.   0.   0.]\n",
      " [  0.   0.  13.  15.  10.  15.   5.   0.]\n",
      " [  0.   3.  15.   2.   0.  11.   8.   0.]\n",
      " [  0.   4.  12.   0.   0.   8.   8.   0.]\n",
      " [  0.   5.   8.   0.   0.   9.   8.   0.]\n",
      " [  0.   4.  11.   0.   1.  12.   7.   0.]\n",
      " [  0.   2.  14.   5.  10.  12.   0.   0.]\n",
      " [  0.   0.   6.  13.  10.   0.   0.   0.]]\n"
     ]
    }
   ],
   "source": [
    "import numpy as np\n",
    "from sklearn.datasets import load_digits\n",
    "digits = load_digits()\n",
    "print(digits.images[0])\n",
    "\n"
   ]
  },
  {
   "cell_type": "code",
   "execution_count": 111,
   "metadata": {
    "collapsed": false
   },
   "outputs": [],
   "source": [
    "class Neuron:\n",
    "    def __init__(self, num_inputs, bias = .5, weights=None):\n",
    "        if weights == None:\n",
    "            self.weights = np.ones((num_inputs,))\n",
    "            for i in range(num_inputs):\n",
    "                self.weights[i] = np.random.rand()\n",
    "        else:\n",
    "            self.weights = weights\n",
    "        if self.weights.shape != (num_inputs,):\n",
    "            raise ValueError(\"Weights must be the same size as the number of inputs.\")\n",
    "        self.bias = float(bias)\n",
    "    def calc_output(self, inputs):\n",
    "        if inputs.shape!=self.weights.shape:\n",
    "            raise ValueError(\"Inputs and weights must have the same shape.\")\n",
    "        inwsum = inputs.dot(self.weights)\n",
    "        output = 1/(1+np.exp(-inwsum-self.bias))\n",
    "        return output"
   ]
  },
  {
   "cell_type": "code",
   "execution_count": 112,
   "metadata": {
    "collapsed": false
   },
   "outputs": [
    {
     "name": "stdout",
     "output_type": "stream",
     "text": [
      "There was an error\n"
     ]
    },
    {
     "name": "stderr",
     "output_type": "stream",
     "text": [
      "/usr/local/lib/python3.4/dist-packages/IPython/kernel/__main__.py:3: FutureWarning: comparison to `None` will result in an elementwise object comparison in the future.\n",
      "  app.launch_new_instance()\n"
     ]
    }
   ],
   "source": [
    "n1 = Neuron(2, .5, np.array((.9, .5)))\n",
    "assert n1.calc_output(np.array([0,0]))!=0\n",
    "assert n1.calc_output(np.array([0,2]))!=1\n",
    "assert n1.calc_output(np.array([2,4]))!=3\n",
    "try:\n",
    "    assert n1.calc_output(np.array([0,0,0,0]))==0\n",
    "except ValueError:\n",
    "    print(\"There was an error\")"
   ]
  },
  {
   "cell_type": "code",
   "execution_count": 113,
   "metadata": {
    "collapsed": false
   },
   "outputs": [],
   "source": [
    "class Layer:\n",
    "    def __init__(self, num_neurons, num_inputs, output_weights=None):\n",
    "        self.neurons = np.empty((num_neurons,), dtype=Neuron)\n",
    "        self.num_neurons = num_neurons\n",
    "        self.output_weights=output_weights\n",
    "        self.output_node = Neuron(num_neurons, .5, output_weights)\n",
    "        for i in range(num_neurons):\n",
    "            self.neurons[i] = Neuron(num_inputs)\n",
    "    def propForward(self, inputs):\n",
    "        outputs = np.zeros((self.num_neurons,))\n",
    "        i=0\n",
    "        for neuron in self.neurons:\n",
    "            outputs[i]=neuron.calc_output(inputs)\n",
    "            print(outputs[i])#vector of activations\n",
    "            i+=1\n",
    "        output = self.output_node.calc_output(outputs)\n",
    "        print(output)\n",
    "        return output\n",
    "    def training(self, inputs,answer):\n",
    "        grad_b = [np.zeros(self.num_neurons) for ]\n",
    "        \n",
    "        "
   ]
  },
  {
   "cell_type": "code",
   "execution_count": 114,
   "metadata": {
    "collapsed": false
   },
   "outputs": [
    {
     "name": "stdout",
     "output_type": "stream",
     "text": [
      "0.65737479122\n",
      "0.785885585612\n",
      "0.625803954731\n",
      "0.795564215745\n",
      "0.712580595348\n",
      "0.772133905567\n",
      "0.710875969055\n",
      "0.627261171279\n",
      "0.681015348482\n",
      "0.810315381999\n",
      "0.762055549717\n",
      "0.783949133141\n",
      "0.6428639118\n",
      "0.755265855893\n",
      "0.70042303825\n",
      "0.635255629971\n",
      "0.678462821295\n",
      "0.721369070954\n",
      "0.771144491261\n",
      "0.634291028354\n",
      "1.0\n"
     ]
    },
    {
     "name": "stderr",
     "output_type": "stream",
     "text": [
      "/usr/local/lib/python3.4/dist-packages/IPython/kernel/__main__.py:3: FutureWarning: comparison to `None` will result in an elementwise object comparison in the future.\n",
      "  app.launch_new_instance()\n"
     ]
    }
   ],
   "source": [
    "net1 = Layer(20, 1, np.linspace(0,10,20))\n",
    "assert net1.propForward(np.array([1]))!=0\n"
   ]
  },
  {
   "cell_type": "code",
   "execution_count": null,
   "metadata": {
    "collapsed": true
   },
   "outputs": [],
   "source": []
  }
 ],
 "metadata": {
  "kernelspec": {
   "display_name": "Python 3",
   "language": "python",
   "name": "python3"
  },
  "language_info": {
   "codemirror_mode": {
    "name": "ipython",
    "version": 3
   },
   "file_extension": ".py",
   "mimetype": "text/x-python",
   "name": "python",
   "nbconvert_exporter": "python",
   "pygments_lexer": "ipython3",
   "version": "3.4.0"
  }
 },
 "nbformat": 4,
 "nbformat_minor": 0
}
