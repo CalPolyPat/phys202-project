{
 "cells": [
  {
   "cell_type": "markdown",
   "metadata": {},
   "source": [
    "# Neural Networks"
   ]
  },
  {
   "cell_type": "markdown",
   "metadata": {},
   "source": [
    "This project was created by Brian Granger. All content is licensed under the MIT License."
   ]
  },
  {
   "cell_type": "markdown",
   "metadata": {},
   "source": [
    "---"
   ]
  },
  {
   "cell_type": "markdown",
   "metadata": {},
   "source": [
    "## Introduction"
   ]
  },
  {
   "cell_type": "markdown",
   "metadata": {},
   "source": [
    "[Neural networks](http://en.wikipedia.org/wiki/Artificial_neural_network) are a class of algorithms that can learn how to compute the value of a function given previous examples of the functions output. Because neural networks are capable of *learning* how to compute the output of a function based on existing data, they generally fall under the field of [Machine Learning](http://en.wikipedia.org/wiki/Machine_learning).\n",
    "\n",
    "\n",
    "Let's say that we don't know how to compute some function $f$:\n",
    "\n",
    "$$ f(x) \\rightarrow y $$\n",
    "\n",
    "But we do have some data about the output that $f$ produces for particular input $x$:\n",
    "\n",
    "$$ f(x_1) \\rightarrow y_1 $$\n",
    "$$ f(x_2) \\rightarrow y_2 $$\n",
    "$$ \\ldots $$\n",
    "$$ f(x_n) \\rightarrow y_n $$\n",
    "\n",
    "A neural network *learns* how to use that existing data to compute the value of the function $f$ on yet unseen data. Neural networks get their name from the similarity of their design to how neurons in the brain work.\n",
    "\n",
    "Work on neural networks began in the 1940s, but significant advancements were made in the 1970s (backpropagation) and more recently, since the late 2000s, with the advent of deep neural networks. These days neural networks are starting to be used extensively in products that you use. A great example of the application of neural networks is the recently released [Flickr](https://www.flickr.com/) automated image tagging. With these algorithms, Flickr is able to determine what tags (\"kitten\", \"puppy\") should be applied to each photo, without human involvement.\n",
    "\n",
    "In this case the function takes an image as input and outputs a set of tags for that image:\n",
    "\n",
    "$$ f(image) \\rightarrow \\{tag_1, \\ldots\\} $$\n",
    "\n",
    "For the purpose of this project, good introductions to neural networks can be found at:\n",
    "\n",
    "* [The Nature of Code](http://natureofcode.com/book/chapter-10-neural-networks/), Daniel Shiffman.\n",
    "* [Neural Networks and Deep Learning](Michael Nielsen ), Michael Nielsen.\n",
    "* [Data Science from Scratch](http://shop.oreilly.com/product/0636920033400.do), Joel Grus"
   ]
  },
  {
   "cell_type": "markdown",
   "metadata": {},
   "source": [
    "## The Project"
   ]
  },
  {
   "cell_type": "markdown",
   "metadata": {},
   "source": [
    "Your general goal is to write Python code to predict the number associated with handwritten digits. The dataset for these digits can be found in sklearn:"
   ]
  },
  {
   "cell_type": "code",
   "execution_count": 1,
   "metadata": {
    "collapsed": false
   },
   "outputs": [
    {
     "name": "stderr",
     "output_type": "stream",
     "text": [
      ":0: FutureWarning: IPython widgets are experimental and may change in the future.\n"
     ]
    }
   ],
   "source": [
    "%matplotlib inline\n",
    "import matplotlib.pyplot as plt\n",
    "from IPython.html.widgets import interact"
   ]
  },
  {
   "cell_type": "code",
   "execution_count": 2,
   "metadata": {
    "collapsed": false
   },
   "outputs": [
    {
     "name": "stdout",
     "output_type": "stream",
     "text": [
      "(1797, 64)\n"
     ]
    }
   ],
   "source": [
    "from sklearn.datasets import load_digits\n",
    "digits = load_digits()\n",
    "print(digits.data.shape)"
   ]
  },
  {
   "cell_type": "code",
   "execution_count": 3,
   "metadata": {
    "collapsed": false
   },
   "outputs": [],
   "source": [
    "def show_digit(i):\n",
    "    plt.matshow(digits.images[i]);"
   ]
  },
  {
   "cell_type": "code",
   "execution_count": 4,
   "metadata": {
    "collapsed": false
   },
   "outputs": [
    {
     "data": {
      "image/png": "[encoded data removed]",
      "text/plain": [
       "<matplotlib.figure.Figure at 0x7eff5b5802b0>"
      ]
     },
     "metadata": {},
     "output_type": "display_data"
    }
   ],
   "source": [
    "interact(show_digit, i=(0,100));"
   ]
  },
  {
   "cell_type": "markdown",
   "metadata": {},
   "source": [
    "The actual, known values (0,1,2,3,4,5,6,7,8,9) associated with each image can be found in the `target` array:"
   ]
  },
  {
   "cell_type": "code",
   "execution_count": 15,
   "metadata": {
    "collapsed": false
   },
   "outputs": [
    {
     "data": {
      "text/plain": [
       "array([0, 1, 2, ..., 8, 9, 8])"
      ]
     },
     "execution_count": 15,
     "metadata": {},
     "output_type": "execute_result"
    }
   ],
   "source": [
    "digits.target"
   ]
  },
  {
   "cell_type": "markdown",
   "metadata": {},
   "source": [
    "Here are some of the things you will need to do as part of this project:\n",
    "\n",
    "* Split the original data set into two parts: 1) a *training set* that you will use to train your neural network and 2) a *test set* you will use to see if your trained neural network can accurately predict previously unseen data.\n",
    "* Write Python code to implement the basic building blocks of neural networks. This code should be modular and fully tested. While you can look at the code examples in the above resources, your code should be your own creation and be *substantially* different. One way of ensuring your code is different is to make it more general.\n",
    "* Create appropriate data structures for the neural network.\n",
    "* Figure out how to initialize the weights of the neural network.\n",
    "* Write code to implement forward and back propagation.\n",
    "* Write code to train the network with the training set.\n",
    "\n",
    "Your **base question** should be to get a basic version of your code working that can predict handwritten digits with an accuracy that is significantly better than that of random guessing.\n",
    "\n",
    "Here are some ideas of questions you could explore as your **two additional questions**:\n",
    "\n",
    "* How to specify, train and use networks with more hidden layers.\n",
    "* The best way to determine the initial weights.\n",
    "* Making it all fast to handle more layers and neurons per layer (`%timeit` and `%%timeit`).\n",
    "* Explore different ways of optimizing the weights/output of the neural network.\n",
    "* Tackle the full [MNIST](http://yann.lecun.com/exdb/mnist/) benchmark of $10,000$ digits.\n",
    "* How different sigmoid function affect the results."
   ]
  },
  {
   "cell_type": "markdown",
   "metadata": {},
   "source": [
    "## Implementation hints\n",
    "\n",
    "There are optimization routines in `scipy.optimize` that may be helpful.\n",
    "\n",
    "You should use NumPy arrays and fast NumPy operations (`dot`) everywhere that is possible."
   ]
  }
 ],
 "metadata": {
  "kernelspec": {
   "display_name": "Python 3",
   "language": "python",
   "name": "python3"
  },
  "language_info": {
   "codemirror_mode": {
    "name": "ipython",
    "version": 3
   },
   "file_extension": ".py",
   "mimetype": "text/x-python",
   "name": "python",
   "nbconvert_exporter": "python",
   "pygments_lexer": "ipython3",
   "version": "3.4.0"
  }
 },
 "nbformat": 4,
 "nbformat_minor": 0
}
