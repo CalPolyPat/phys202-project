{
 "cells": [
  {
   "cell_type": "code",
   "execution_count": 1,
   "metadata": {
    "collapsed": false
   },
   "outputs": [
    {
     "name": "stderr",
     "output_type": "stream",
     "text": [
      ":0: FutureWarning: IPython widgets are experimental and may change in the future.\n"
     ]
    }
   ],
   "source": [
    "import numpy as np\n",
    "import matplotlib\n",
    "import matplotlib.pyplot as plt\n",
    "matplotlib.style.use('ggplot')\n",
    "from mpl_toolkits.mplot3d import Axes3D\n",
    "import IPython.html.widgets as widg\n",
    "from IPython.display import clear_output\n",
    "import sys\n",
    "%matplotlib inline"
   ]
  },
  {
   "cell_type": "code",
   "execution_count": 2,
   "metadata": {
    "collapsed": false
   },
   "outputs": [],
   "source": [
    "class Network:\n",
    "    def __init__(self, shape):\n",
    "        \"\"\"The base network class. This defines a simple feed-forward network with appropriate weights and biases.\n",
    "        \n",
    "        Arguments:\n",
    "        shape (list-like): This defines the # of layers and # of neurons per layer in your network.\n",
    "                           Each element of the array or list adds a new layer with the number neurons specified by the element.\n",
    "        Variables:\n",
    "        self.shape: see shape.\n",
    "        self.weights: A list of numpy arrays containing the weights corresponding to each channel between neurons.\n",
    "        self.biases: A list of numpy arrays containing the biases corresponding to each neuron.\n",
    "        self.errors: A list of numpy arrays containing the error of each neurons in any iteration of the training process.\n",
    "        self.eta: A float representing the learning rate.\n",
    "        self.lam: A scale factor used in L2 regularization\n",
    "        \"\"\"\n",
    "        \n",
    "        self.shape = np.array(shape) #shape is array-like, i.e. (2,3,4) is a 2 input, 3 hidden node, 4 output network\n",
    "        self.weights = [np.random.ranf((self.shape[i],self.shape[i-1]))*.1 for i in range(1,len(self.shape))]\n",
    "        self.biases = [np.random.ranf((self.shape[i],))*.1 for i in range(1,len(self.shape))]\n",
    "        self.errors = [np.random.ranf((self.shape[i],)) for i in range(1,len(self.shape))]\n",
    "        self.eta = .1\n",
    "        self.lam = .01\n",
    "    def sigmoid(self, inputs):\n",
    "        \"\"\"Computes the sigmoid function of some input.\n",
    "        \n",
    "        Arguments:\n",
    "        inputs (float or numpy array): The input or inputs to be fed through the sigmoid function.\n",
    "        \"\"\"\n",
    "        \n",
    "        return 1/(1+np.exp(-inputs))\n",
    "    def feedforward(self, inputs):\n",
    "        \"\"\"Feeds inputs through the network and returns the output.\n",
    "        \n",
    "        Arguments:\n",
    "        inputs (numpy array): The inputs to the network, must be the same size as the first(input) layer.\n",
    "        \n",
    "        Variables:\n",
    "        self.activation: A list of numpy arrays corresponding to the output of each neuron in your network.\n",
    "        \"\"\"\n",
    "        \n",
    "        assert inputs.shape==self.shape[0] #inputs must feed directly into the first layer.\n",
    "        self.activation = [np.zeros((self.shape[i],)) for i in range(len(self.shape))]\n",
    "        self.activation[0] = inputs\n",
    "        for i in range(1,len(self.shape)):\n",
    "            self.activation[i]=self.sigmoid(np.dot(self.weights[i-1],self.activation[i-1])+self.biases[i-1])\n",
    "        return self.activation[-1]\n",
    "    def comp_error(self, answer):\n",
    "        \"\"\"Computes the errors of each neuron.(Typically called Back Propagation)\n",
    "        \n",
    "        Arguments:\n",
    "        answers (numpy array): The expected output from the network.\n",
    "        \"\"\"\n",
    "        if (self.activation[-1]-answer).any>.15:\n",
    "            self.eta = .005\n",
    "        else: \n",
    "            self.eta = .5\n",
    "        \n",
    "        assert answer.shape==self.activation[-1].shape\n",
    "        self.errors[-1] = np.pi*np.tan(np.pi/2*(self.activation[-1]-answer))*1/np.cos(np.pi/2*(self.activation[-1]-answer))**2*np.exp(np.dot(self.weights[-1],self.activation[-2])+self.biases[-1])/(np.exp(np.dot(self.weights[-1],self.activation[-2])+self.biases[-1])+1)**2\n",
    "        for i in range(len(self.shape)-2, 0, -1):\n",
    "            self.errors[i-1] = self.weights[i].transpose().dot(self.errors[i])*np.exp(np.dot(self.weights[i-1],self.activation[i-1])+self.biases[i-1])/(np.exp(np.dot(self.weights[i-1],self.activation[i-1])+self.biases[i-1])+1)**2\n",
    "    def grad_descent(self):\n",
    "        \"\"\"Changes each variable based on the gradient descent algorithm.\"\"\"\n",
    "        \n",
    "        #for i in range(len(self.biases)):\n",
    "         #   self.biases[i]=self.biases[i]-self.eta*self.errors[i]\n",
    "        for i in range(len(self.weights)):\n",
    "            self.biases[i]=self.biases[i]-self.eta*self.errors[i]\n",
    "            for j in range(self.weights[i].shape[0]):\n",
    "                for k in range(self.weights[i].shape[1]):\n",
    "                    self.weights[i][j,k] = (1-self.eta*self.lam/1000)*self.weights[i][j,k] - self.eta*self.activation[i][k]*self.errors[i][j]\n",
    "    def train(self, inputs, answer):\n",
    "        \"\"\"Trains the network.\n",
    "        \n",
    "        Arguments:\n",
    "        inputs (numpy array): The inputs to the network, must be the same size as the first(input) layer.\n",
    "        answers (numpy array): The expected output from the network, must be the same size as the last(output) layer.\n",
    "        \"\"\"\n",
    "        \n",
    "        self.feedforward(inputs)\n",
    "        self.comp_error(answer)\n",
    "        self.grad_descent()"
   ]
  },
  {
   "cell_type": "code",
   "execution_count": 3,
   "metadata": {
    "collapsed": false,
    "scrolled": true
   },
   "outputs": [
    {
     "name": "stdout",
     "output_type": "stream",
     "text": [
      "[ 0.61714598]\n",
      "[ 0.52226045]\n"
     ]
    }
   ],
   "source": [
    "n1 = Network([2,15,1])\n",
    "print n1.feedforward(np.array([1,2]))\n",
    "for i in range(1000):\n",
    "    n1.train(np.array([1,200]), np.array([.5]))\n",
    "print n1.feedforward(np.array([1,2]))"
   ]
  },
  {
   "cell_type": "code",
   "execution_count": 4,
   "metadata": {
    "collapsed": false
   },
   "outputs": [
    {
     "name": "stdout",
     "output_type": "stream",
     "text": [
      "[ 0.    0.    0.05  0.13  0.09  0.01  0.    0.    0.    0.    0.13  0.15\n",
      "  0.1   0.15  0.05  0.    0.    0.03  0.15  0.02  0.    0.11  0.08  0.    0.\n",
      "  0.04  0.12  0.    0.    0.08  0.08  0.    0.    0.05  0.08  0.    0.\n",
      "  0.09  0.08  0.    0.    0.04  0.11  0.    0.01  0.12  0.07  0.    0.\n",
      "  0.02  0.14  0.05  0.1   0.12  0.    0.    0.    0.    0.06  0.13  0.1   0.\n",
      "  0.    0.  ]\n"
     ]
    }
   ],
   "source": [
    "from sklearn.datasets import load_digits\n",
    "digits = load_digits()\n",
    "print(digits.data[0]*.01)"
   ]
  },
  {
   "cell_type": "code",
   "execution_count": 5,
   "metadata": {
    "collapsed": false
   },
   "outputs": [],
   "source": [
    "num = Network([64, 14, 10])\n"
   ]
  },
  {
   "cell_type": "code",
   "execution_count": 6,
   "metadata": {
    "collapsed": false
   },
   "outputs": [],
   "source": [
    "# %timeit num.feedforward(digits.data[89]*.01)\n",
    "# %timeit num.comp_error(np.eye(10)[digits.target[89]])\n",
    "# %timeit num.grad_descent()"
   ]
  },
  {
   "cell_type": "code",
   "execution_count": 17,
   "metadata": {
    "collapsed": true
   },
   "outputs": [],
   "source": [
    "def Train_it(num, itera):\n",
    "    iden = np.eye(10)\n",
    "    acc = np.zeros((itera,))\n",
    "    trainer = zip(digits.data,digits.target)\n",
    "    perm = np.random.permutation(trainer)\n",
    "    trains = perm[:1000]\n",
    "    test = perm[1001:]\n",
    "    #num = Network([64, 14, 10])\n",
    "    print num.feedforward(digits.data[89]*.01)\n",
    "    for i in range(itera):\n",
    "        print(float(100*i/(itera*1.0)))\n",
    "        for dig, ans in trains:\n",
    "            num.train(dig*.01,iden[ans])\n",
    "        cor = 0\n",
    "        tot = 0\n",
    "        for dig, ans in test:\n",
    "            if num.feedforward(dig*.01).argmax()==ans:\n",
    "                cor += 1\n",
    "            tot += 1\n",
    "        acc[i] = cor/float(tot)\n",
    "    return acc"
   ]
  },
  {
   "cell_type": "code",
   "execution_count": 18,
   "metadata": {
    "collapsed": false
   },
   "outputs": [
    {
     "name": "stdout",
     "output_type": "stream",
     "text": [
      "[  5.81622305e-03   1.49754082e-02   3.57759647e-01   7.94837483e-01\n",
      "   2.38875291e-04   2.37345115e-02   1.34656456e-03   7.52836571e-02\n",
      "   6.22696805e-02   9.33770421e-02]\n",
      "0.0\n",
      "1.0\n",
      "2.0\n",
      "3.0\n",
      "4.0\n",
      "5.0\n",
      "6.0\n",
      "7.0\n",
      "8.0\n",
      "9.0\n",
      "10.0\n",
      "11.0\n",
      "12.0\n",
      "13.0\n",
      "14.0\n",
      "15.0\n",
      "16.0\n",
      "17.0\n",
      "18.0\n",
      "19.0\n",
      "20.0\n",
      "21.0\n",
      "22.0\n",
      "23.0\n",
      "24.0\n",
      "25.0\n",
      "26.0\n",
      "27.0\n",
      "28.0\n",
      "29.0\n",
      "30.0\n",
      "31.0\n",
      "32.0\n",
      "33.0\n",
      "34.0\n",
      "35.0\n",
      "36.0\n",
      "37.0\n",
      "38.0\n",
      "39.0\n",
      "40.0\n",
      "41.0\n",
      "42.0\n",
      "43.0\n",
      "44.0\n",
      "45.0\n",
      "46.0\n",
      "47.0\n",
      "48.0\n",
      "49.0\n",
      "50.0\n",
      "51.0\n",
      "52.0\n",
      "53.0\n",
      "54.0\n",
      "55.0\n",
      "56.0\n",
      "57.0\n",
      "58.0\n",
      "59.0\n",
      "60.0\n",
      "61.0\n",
      "62.0\n",
      "63.0\n",
      "64.0\n",
      "65.0\n",
      "66.0\n",
      "67.0\n",
      "68.0\n",
      "69.0\n",
      "70.0\n",
      "71.0\n",
      "72.0\n",
      "73.0\n",
      "74.0\n",
      "75.0\n",
      "76.0\n",
      "77.0\n",
      "78.0\n",
      "79.0\n",
      "80.0\n",
      "81.0\n",
      "82.0\n",
      "83.0\n",
      "84.0\n",
      "85.0\n",
      "86.0\n",
      "87.0\n",
      "88.0\n",
      "89.0\n",
      "90.0\n",
      "91.0\n",
      "92.0\n",
      "93.0\n",
      "94.0\n",
      "95.0\n",
      "96.0\n",
      "97.0\n",
      "98.0\n",
      "99.0\n",
      "0\n",
      "3\n",
      "[ 0.11180905  0.11180905  0.11180905  0.11180905  0.11180905  0.11180905\n",
      "  0.11180905  0.11180905  0.11180905  0.11180905  0.11180905  0.11180905\n",
      "  0.11180905  0.11180905  0.11180905  0.11180905  0.11180905  0.11180905\n",
      "  0.11180905  0.11180905  0.11180905  0.11180905  0.11180905  0.11180905\n",
      "  0.11180905  0.11180905  0.11180905  0.11180905  0.11180905  0.11180905\n",
      "  0.11180905  0.11180905  0.11180905  0.11180905  0.11180905  0.11180905\n",
      "  0.11180905  0.11180905  0.11180905  0.11180905  0.11180905  0.11180905\n",
      "  0.11180905  0.11180905  0.11180905  0.11180905  0.11180905  0.11180905\n",
      "  0.11180905  0.11180905  0.11180905  0.11180905  0.11180905  0.11180905\n",
      "  0.11180905  0.11180905  0.11180905  0.11180905  0.11180905  0.11180905\n",
      "  0.11180905  0.11180905  0.11180905  0.11180905  0.11180905  0.11180905\n",
      "  0.11180905  0.11180905  0.11180905  0.11180905  0.11180905  0.11180905\n",
      "  0.11180905  0.11180905  0.11180905  0.11180905  0.11180905  0.11180905\n",
      "  0.11180905  0.11180905  0.11180905  0.11180905  0.11180905  0.11180905\n",
      "  0.11180905  0.11180905  0.11180905  0.11180905  0.11180905  0.11180905\n",
      "  0.11180905  0.11180905  0.11180905  0.11180905  0.11180905  0.11180905\n",
      "  0.11180905  0.11180905  0.11180905  0.11180905]\n"
     ]
    },
    {
     "name": "stderr",
     "output_type": "stream",
     "text": [
      "/usr/local/lib/python2.7/dist-packages/IPython/kernel/__main__.py:30: RuntimeWarning: overflow encountered in exp\n",
      "/usr/local/lib/python2.7/dist-packages/IPython/kernel/__main__.py:59: RuntimeWarning: overflow encountered in exp\n",
      "/usr/local/lib/python2.7/dist-packages/IPython/kernel/__main__.py:59: RuntimeWarning: invalid value encountered in divide\n"
     ]
    }
   ],
   "source": [
    "acc = Train_it(num, 100)\n",
    "print(num.feedforward(digits.data[89]*.01).argmax())\n",
    "print(digits.target[89])\n",
    "print(acc)"
   ]
  },
  {
   "cell_type": "code",
   "execution_count": 10,
   "metadata": {
    "collapsed": false
   },
   "outputs": [
    {
     "data": {
      "text/plain": [
       "[<matplotlib.lines.Line2D at 0x7f9b07013b10>]"
      ]
     },
     "execution_count": 10,
     "metadata": {},
     "output_type": "execute_result"
    },
    {
     "data": {
      "image/png": "[encoded data removed]",
      "text/plain": [
       "<matplotlib.figure.Figure at 0x7f9b070e8b10>"
      ]
     },
     "metadata": {},
     "output_type": "display_data"
    }
   ],
   "source": [
    "plt.figure(figsize=(15,10))\n",
    "plt.plot(np.linspace(0,100,100),acc)"
   ]
  },
  {
   "cell_type": "code",
   "execution_count": 37,
   "metadata": {
    "collapsed": false
   },
   "outputs": [],
   "source": [
    "np.savetxt(\"Accuracy_Data_run_8.dat\", acc)"
   ]
  },
  {
   "cell_type": "code",
   "execution_count": 40,
   "metadata": {
    "collapsed": false
   },
   "outputs": [],
   "source": [
    "def plot_epochs(az_angle, eleva):\n",
    "    fig = plt.figure(figsize=(15, 10))\n",
    "    ax = fig.add_subplot(111, projection='3d')\n",
    "    X, Y = np.meshgrid(np.linspace(0,500,500), np.linspace(8,14, 7))\n",
    "    ax.plot_surface(X, Y, acc)\n",
    "    ax.view_init(elev=eleva, azim=az_angle)"
   ]
  },
  {
   "cell_type": "code",
   "execution_count": 41,
   "metadata": {
    "collapsed": false
   },
   "outputs": [
    {
     "data": {
      "image/png": "[encoded data removed]",
      "text/plain": [
       "<matplotlib.figure.Figure at 0x7f39fce51650>"
      ]
     },
     "metadata": {},
     "output_type": "display_data"
    }
   ],
   "source": [
    "widg.interact(plot_epochs, az_angle=(0, 360, 1), eleva=(0,20,1))"
   ]
  },
  {
   "cell_type": "code",
   "execution_count": null,
   "metadata": {
    "collapsed": true
   },
   "outputs": [],
   "source": []
  }
 ],
 "metadata": {
  "kernelspec": {
   "display_name": "Python 2",
   "language": "python",
   "name": "python2"
  },
  "language_info": {
   "codemirror_mode": {
    "name": "ipython",
    "version": 2
   },
   "file_extension": ".py",
   "mimetype": "text/x-python",
   "name": "python",
   "nbconvert_exporter": "python",
   "pygments_lexer": "ipython2",
   "version": "2.7.6"
  }
 },
 "nbformat": 4,
 "nbformat_minor": 0
}
