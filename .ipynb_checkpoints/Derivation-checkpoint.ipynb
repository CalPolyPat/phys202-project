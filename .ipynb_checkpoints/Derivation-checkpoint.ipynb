{
 "cells": [
  {
   "cell_type": "markdown",
   "metadata": {},
   "source": [
    "#####Derivation of small change in cost function due to small change in weight or bias\n",
    "\n",
    "Consider 3-node network with one input node, one hidden node, and one output node.\n",
    "\n",
    "Let us first expand $(y-a)$:\n",
    "\n",
    "$$(y-a)=(\\sigma(\\sigma(i_1 w_1+b_1) w_2 + b_2)-a)$$\n",
    "\n",
    "Where here $\\sigma(x)=\\frac{1}{1+e^{-x}}$, $i_1$ represents the input, and $w_1$, $b_1$, $w_2$, $b_2$ represent the weights and biases for the idden and output layers respectively.\n",
    "\n",
    "All together we have:\n",
    "\n",
    "$$tan^2(\\sigma(\\sigma(i_1 w_1+b_1) w_2 + b_2)-a)$$\n",
    "\n",
    "So to figure out if our cost function responds to a small change in weights or biases, we take all four partial derivatives and consider:\n",
    "\n",
    "$$\\lim_{\\Delta X \\to\\ 0} \\frac{\\partial tan^2(\\sigma(\\sigma(i_1 w_1+b_1) w_2 + b_2)-a)}{\\partial X} \\Bigg\\vert_{X=X+\\Delta X}$$\n",
    "\n",
    "Where $X \\in \\{w_1, w_2, b_1, b_1\\}$.\n",
    "\n",
    "Consider $X=w_1$:\n",
    "\n",
    "$$\\frac{\\partial tan^2(\\sigma(\\sigma(i_1 w_1+b_1) w_2 + b_2)-a)}{\\partial w_1} \\Bigg\\vert_{w_1=w_1+\\Delta w_1}=\\frac{2 sin(\\sigma(\\sigma(i_1 w_1+b_1) w_2 + b_2)-a)}{cos^3(\\sigma(\\sigma(i_1 w_1+b_1) w_2 + b_2)-a)} \\frac{\\partial \\sigma(\\sigma(i_1 w_1+b_1) w_2 + b_2)-a}{\\partial w_1} \\Bigg\\vert_{w_1=w_1+\\Delta w_1}$$\n",
    "\n",
    "As we can see already, the complexity of these networks can become unmanageable quickly...onward!\n",
    "\n",
    "$$\\frac{\\partial \\sigma(\\sigma(i_1 w_1+b_1) w_2 + b_2)-a}{\\partial w_1} \\Bigg\\vert_{w_1=w_1+\\Delta w_1}=\\frac{\\partial \\sigma(\\sigma(i_1 w_1+b_1) w_2 + b_2)}{\\partial w_1}-\\frac{\\partial a}{\\partial w_1} \\Bigg\\vert_{w_1=w_1+\\Delta w_1}=\\frac{\\partial \\sigma(\\sigma(i_1 w_1+b_1) w_2 + b_2)}{\\partial w_1} \\Bigg\\vert_{w_1=w_1+\\Delta w_1}$$"
   ]
  }
 ],
 "metadata": {
  "kernelspec": {
   "display_name": "Python 2",
   "language": "python",
   "name": "python2"
  },
  "language_info": {
   "codemirror_mode": {
    "name": "ipython",
    "version": 2
   },
   "file_extension": ".py",
   "mimetype": "text/x-python",
   "name": "python",
   "nbconvert_exporter": "python",
   "pygments_lexer": "ipython2",
   "version": "2.7.6"
  }
 },
 "nbformat": 4,
 "nbformat_minor": 0
}
