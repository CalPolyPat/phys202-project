{
 "cells": [
  {
   "cell_type": "code",
   "execution_count": 1,
   "metadata": {
    "collapsed": false
   },
   "outputs": [
    {
     "name": "stderr",
     "output_type": "stream",
     "text": [
      ":0: FutureWarning: IPython widgets are experimental and may change in the future.\n"
     ]
    }
   ],
   "source": [
    "import numpy as np\n",
    "import matplotlib\n",
    "import matplotlib.pyplot as plt\n",
    "matplotlib.style.use('ggplot')\n",
    "from mpl_toolkits.mplot3d import Axes3D\n",
    "import IPython.html.widgets as widg\n",
    "from IPython.display import clear_output\n",
    "import sys\n",
    "import scipy.stats as sts\n",
    "%matplotlib inline"
   ]
  },
  {
   "cell_type": "code",
   "execution_count": 2,
   "metadata": {
    "collapsed": false
   },
   "outputs": [],
   "source": [
    "class Network:\n",
    "    def __init__(self, shape):\n",
    "        \"\"\"The base network class. This defines a simple feed-forward network with appropriate weights and biases.\n",
    "        \n",
    "        Arguments:\n",
    "        shape (list-like): This defines the # of layers and # of neurons per layer in your network.\n",
    "                           Each element of the array or list adds a new layer with the number neurons specified by the element.\n",
    "        Variables:\n",
    "        self.shape: see shape.\n",
    "        self.weights: A list of numpy arrays containing the weights corresponding to each channel between neurons.\n",
    "        self.biases: A list of numpy arrays containing the biases corresponding to each neuron.\n",
    "        self.errors: A list of numpy arrays containing the error of each neurons in any iteration of the training process.\n",
    "        self.eta: A float representing the learning rate.\n",
    "        self.lam: A scale factor used in L2 regularization\n",
    "        \"\"\"\n",
    "        \n",
    "        self.shape = np.array(shape) #shape is array-like, i.e. (2,3,4) is a 2 input, 3 hidden node, 4 output network\n",
    "        self.weights = [np.random.ranf((self.shape[i],self.shape[i-1]))*.1 for i in range(1,len(self.shape))]\n",
    "        self.biases = [np.random.ranf((self.shape[i],))*.1 for i in range(1,len(self.shape))]\n",
    "        self.errors = [np.random.ranf((self.shape[i],)) for i in range(1,len(self.shape))]\n",
    "        self.eta = .1\n",
    "        self.lam = .01\n",
    "        self.wrong = 0\n",
    "        self.total = 0\n",
    "    def sigmoid(self, inputs):\n",
    "        \"\"\"Computes the sigmoid function of some input.\n",
    "        \n",
    "        Arguments:\n",
    "        inputs (float or numpy array): The input or inputs to be fed through the sigmoid function.\n",
    "        \"\"\"\n",
    "        \n",
    "        return 1/(1+np.exp(-inputs))\n",
    "    def feedforward(self, inputs):\n",
    "        \"\"\"Feeds inputs through the network and returns the output.\n",
    "        \n",
    "        Arguments:\n",
    "        inputs (numpy array): The inputs to the network, must be the same size as the first(input) layer.\n",
    "        \n",
    "        Variables:\n",
    "        self.activation: A list of numpy arrays corresponding to the output of each neuron in your network.\n",
    "        \"\"\"\n",
    "        \n",
    "        assert inputs.shape==self.shape[0] #inputs must feed directly into the first layer.\n",
    "        self.activation = [np.zeros((self.shape[i],)) for i in range(len(self.shape))]\n",
    "        self.activation[0] = inputs\n",
    "        for i in range(1,len(self.shape)):\n",
    "            self.activation[i]=self.sigmoid(np.dot(self.weights[i-1],self.activation[i-1])+self.biases[i-1])\n",
    "        return self.activation[-1]\n",
    "    def calc_learning_rate(self,grad):\n",
    "        if grad>.9:\n",
    "            self.eta=.1/grad**.1*1/(.25*(2*np.pi)**.5)*np.exp(-(grad)**2/(2*(.25)**2))\n",
    "        else:\n",
    "            self.eta=.1/grad**.7*1/(.4*(2*np.pi)**.5)*np.exp(-(grad)**2/(2*(.4)**2))*(grad+.08)\n",
    "        self.wrong+=grad\n",
    "        self.total+=grad\n",
    "    def comp_error(self, answer):\n",
    "        \"\"\"Computes the errors of each neuron.(Typically called Back Propagation)\n",
    "        \n",
    "        Arguments:\n",
    "        answers (numpy array): The expected output from the network.\n",
    "        \"\"\"\n",
    "#         if (self.activation[-1]-answer).any>.15:\n",
    "#             self.eta = .005\n",
    "#         else: \n",
    "#             self.eta = .5\n",
    "        self.calc_learning_rate(np.amax(np.abs((self.activation[-1]-answer))))\n",
    "        #print(np.amax(np.abs((self.activation[-1]-answer))))\n",
    "        assert answer.shape==self.activation[-1].shape\n",
    "        self.errors[-1] = np.pi*np.tan(np.pi/2*(self.activation[-1]-answer))*1/np.cos(np.pi/2*(self.activation[-1]-answer))**2*np.exp(np.dot(self.weights[-1],self.activation[-2])+self.biases[-1])/(np.exp(np.dot(self.weights[-1],self.activation[-2])+self.biases[-1])+1)**2\n",
    "        for i in range(len(self.shape)-2, 0, -1):\n",
    "            self.errors[i-1] = self.weights[i].transpose().dot(self.errors[i])*np.exp(np.dot(self.weights[i-1],self.activation[i-1])+self.biases[i-1])/(np.exp(np.dot(self.weights[i-1],self.activation[i-1])+self.biases[i-1])+1)**2\n",
    "    def grad_descent(self):\n",
    "        \"\"\"Changes each variable based on the gradient descent algorithm.\"\"\"\n",
    "        \n",
    "        #for i in range(len(self.biases)):\n",
    "         #   self.biases[i]=self.biases[i]-self.eta*self.errors[i]\n",
    "        for i in range(len(self.weights)):\n",
    "            self.biases[i]=self.biases[i]-self.eta*self.errors[i]\n",
    "            for j in range(self.weights[i].shape[0]):\n",
    "                for k in range(self.weights[i].shape[1]):\n",
    "                    self.weights[i][j,k] = (1-self.eta*self.lam/1000)*self.weights[i][j,k] - self.eta*self.activation[i][k]*self.errors[i][j]\n",
    "    def train(self, inputs, answer):\n",
    "        \"\"\"Trains the network.\n",
    "        \n",
    "        Arguments:\n",
    "        inputs (numpy array): The inputs to the network, must be the same size as the first(input) layer.\n",
    "        answers (numpy array): The expected output from the network, must be the same size as the last(output) layer.\n",
    "        \"\"\"\n",
    "        \n",
    "        self.feedforward(inputs)\n",
    "        self.comp_error(answer)\n",
    "        self.grad_descent()\n",
    "    def get_fractional_err(self):\n",
    "        return(self.wrong)"
   ]
  },
  {
   "cell_type": "markdown",
   "metadata": {},
   "source": [
    "# add piecewise def for learning rate\n"
   ]
  },
  {
   "cell_type": "code",
   "execution_count": 3,
   "metadata": {
    "collapsed": false,
    "scrolled": true
   },
   "outputs": [
    {
     "name": "stdout",
     "output_type": "stream",
     "text": [
      "[ 0.60346649]\n",
      "[ 0.49920056]\n"
     ]
    }
   ],
   "source": [
    "n1 = Network([2,15,1])\n",
    "print n1.feedforward(np.array([1,2]))\n",
    "for i in range(1000):\n",
    "    n1.train(np.array([1,2]), np.array([.5]))\n",
    "print n1.feedforward(np.array([1,2]))"
   ]
  },
  {
   "cell_type": "code",
   "execution_count": 4,
   "metadata": {
    "collapsed": false
   },
   "outputs": [
    {
     "name": "stdout",
     "output_type": "stream",
     "text": [
      "[ 0.    0.    0.05  0.13  0.09  0.01  0.    0.    0.    0.    0.13  0.15\n",
      "  0.1   0.15  0.05  0.    0.    0.03  0.15  0.02  0.    0.11  0.08  0.    0.\n",
      "  0.04  0.12  0.    0.    0.08  0.08  0.    0.    0.05  0.08  0.    0.\n",
      "  0.09  0.08  0.    0.    0.04  0.11  0.    0.01  0.12  0.07  0.    0.\n",
      "  0.02  0.14  0.05  0.1   0.12  0.    0.    0.    0.    0.06  0.13  0.1   0.\n",
      "  0.    0.  ]\n"
     ]
    }
   ],
   "source": [
    "from sklearn.datasets import load_digits\n",
    "digits = load_digits()\n",
    "print(digits.data[0]*.01)"
   ]
  },
  {
   "cell_type": "code",
   "execution_count": 5,
   "metadata": {
    "collapsed": false
   },
   "outputs": [],
   "source": [
    "num = []\n",
    "for i in range(0,11):\n",
    "    num.append(Network([64,7,10]))"
   ]
  },
  {
   "cell_type": "code",
   "execution_count": 6,
   "metadata": {
    "collapsed": false
   },
   "outputs": [],
   "source": [
    "# %timeit num.feedforward(digits.data[89]*.01)\n",
    "# %timeit num.comp_error(np.eye(10)[digits.target[89]])\n",
    "# %timeit num.grad_descent()"
   ]
  },
  {
   "cell_type": "code",
   "execution_count": 7,
   "metadata": {
    "collapsed": true
   },
   "outputs": [],
   "source": [
    "def Train_it(num, itera):\n",
    "    iden = np.eye(10)\n",
    "    acc = np.zeros((itera,))\n",
    "    frac_err = np.zeros((itera,))\n",
    "    #trainer = zip(digits.data,digits.target)\n",
    "    perm = np.random.permutation(zip(digits.data,digits.target))\n",
    "    trains = perm[:1000]\n",
    "    test = perm[1001:]\n",
    "    #num = Network([64, 14, 10])\n",
    "    #print num.feedforward(digits.data[89]*.01)\n",
    "    for i in range(itera):\n",
    "        print(float(100*i/(itera*1.0)))\n",
    "        for dig, ans in trains:\n",
    "            num.train(dig*.01,iden[ans])\n",
    "        cor = 0\n",
    "        tot = 0\n",
    "        for dig, ans in test:\n",
    "            if num.feedforward(dig*.01).argmax()==ans:\n",
    "                cor += 1\n",
    "            tot += 1\n",
    "        acc[i] = cor/float(tot)\n",
    "        frac_err[i] = num.get_fractional_err()\n",
    "    return acc, frac_err"
   ]
  },
  {
   "cell_type": "code",
   "execution_count": null,
   "metadata": {
    "collapsed": false
   },
   "outputs": [
    {
     "name": "stdout",
     "output_type": "stream",
     "text": [
      "0.0\n",
      "0.0\n",
      "0.0\n",
      "0.0\n",
      "1 loops, best of 3: 907 ms per loop\n"
     ]
    }
   ],
   "source": [
    "%timeit Train_it(num[8], 1)"
   ]
  },
  {
   "cell_type": "code",
   "execution_count": null,
   "metadata": {
    "collapsed": false
   },
   "outputs": [],
   "source": [
    "%timeit Train_it(num[8], 1)"
   ]
  },
  {
   "cell_type": "code",
   "execution_count": 8,
   "metadata": {
    "collapsed": false,
    "scrolled": true
   },
   "outputs": [
    {
     "name": "stdout",
     "output_type": "stream",
     "text": [
      "0\n",
      "0.0\n",
      "50.0\n",
      "1\n",
      "0.0\n",
      "50.0\n",
      "2\n",
      "0.0\n",
      "50.0\n",
      "3\n",
      "0.0\n",
      "50.0\n",
      "4\n",
      "0.0\n",
      "50.0\n",
      "5\n",
      "0.0\n",
      "50.0\n",
      "6\n",
      "0.0\n",
      "50.0\n",
      "7\n",
      "0.0\n",
      "50.0\n",
      "8\n",
      "0.0\n",
      "50.0\n",
      "9\n",
      "0.0\n",
      "50.0\n",
      "[[ 0.10427136  0.16959799]\n",
      " [ 0.10050251  0.10050251]\n",
      " [ 0.09045226  0.09045226]\n",
      " [ 0.11683417  0.11683417]\n",
      " [ 0.10678392  0.10678392]\n",
      " [ 0.09170854  0.09170854]\n",
      " [ 0.17462312  0.10301508]\n",
      " [ 0.09422111  0.09547739]\n",
      " [ 0.09798995  0.09798995]\n",
      " [ 0.09924623  0.09924623]]\n"
     ]
    }
   ],
   "source": [
    "accu = np.zeros((10,2))\n",
    "fracerr = np.zeros((10,2))\n",
    "for i in range(10):\n",
    "    print(i)\n",
    "    accu[i], fracerr[i] = Train_it(num[i], 2)\n",
    "print(accu)"
   ]
  },
  {
   "cell_type": "code",
   "execution_count": 9,
   "metadata": {
    "collapsed": false
   },
   "outputs": [
    {
     "name": "stdout",
     "output_type": "stream",
     "text": [
      "0\n",
      "0.0\n",
      "0.333333333333\n",
      "0.666666666667\n",
      "1.0\n",
      "1.33333333333\n",
      "1.66666666667\n",
      "2.0\n",
      "2.33333333333\n",
      "2.66666666667\n",
      "3.0\n",
      "3.33333333333\n",
      "3.66666666667\n",
      "4.0\n",
      "4.33333333333\n",
      "4.66666666667\n",
      "5.0\n",
      "5.33333333333\n",
      "5.66666666667\n",
      "6.0\n",
      "6.33333333333\n",
      "6.66666666667\n",
      "7.0\n",
      "7.33333333333\n",
      "7.66666666667\n",
      "8.0\n",
      "8.33333333333\n",
      "8.66666666667\n",
      "9.0\n",
      "9.33333333333\n",
      "9.66666666667\n",
      "10.0\n",
      "10.3333333333\n",
      "10.6666666667\n",
      "11.0\n",
      "11.3333333333\n",
      "11.6666666667\n",
      "12.0\n",
      "12.3333333333\n",
      "12.6666666667\n",
      "13.0\n",
      "13.3333333333\n",
      "13.6666666667\n",
      "14.0\n",
      "14.3333333333\n",
      "14.6666666667\n",
      "15.0\n",
      "15.3333333333\n",
      "15.6666666667\n",
      "16.0\n",
      "16.3333333333\n",
      "16.6666666667\n",
      "17.0\n",
      "17.3333333333\n",
      "17.6666666667\n",
      "18.0\n",
      "18.3333333333\n",
      "18.6666666667\n",
      "19.0\n",
      "19.3333333333\n",
      "19.6666666667\n",
      "20.0\n",
      "20.3333333333\n",
      "20.6666666667\n",
      "21.0\n",
      "21.3333333333\n",
      "21.6666666667\n",
      "22.0\n",
      "22.3333333333\n",
      "22.6666666667\n",
      "23.0\n",
      "23.3333333333\n",
      "23.6666666667\n",
      "24.0\n",
      "24.3333333333\n",
      "24.6666666667\n",
      "25.0\n",
      "25.3333333333\n",
      "25.6666666667\n",
      "26.0\n",
      "26.3333333333\n",
      "26.6666666667\n",
      "27.0\n",
      "27.3333333333\n",
      "27.6666666667\n",
      "28.0\n",
      "28.3333333333\n",
      "28.6666666667\n",
      "29.0\n",
      "29.3333333333\n",
      "29.6666666667\n",
      "30.0\n",
      "30.3333333333\n",
      "30.6666666667\n",
      "31.0\n",
      "31.3333333333\n",
      "31.6666666667\n",
      "32.0\n",
      "32.3333333333\n",
      "32.6666666667\n",
      "33.0\n",
      "33.3333333333\n",
      "33.6666666667\n",
      "34.0\n",
      "34.3333333333\n",
      "34.6666666667\n",
      "35.0\n",
      "35.3333333333\n",
      "35.6666666667\n",
      "36.0\n",
      "36.3333333333\n",
      "36.6666666667\n",
      "37.0\n",
      "37.3333333333\n",
      "37.6666666667\n",
      "38.0\n",
      "38.3333333333\n",
      "38.6666666667\n",
      "39.0\n",
      "39.3333333333\n",
      "39.6666666667\n",
      "40.0\n",
      "40.3333333333\n",
      "40.6666666667\n",
      "41.0\n",
      "41.3333333333\n",
      "41.6666666667\n",
      "42.0\n",
      "42.3333333333\n",
      "42.6666666667\n",
      "43.0\n",
      "43.3333333333\n",
      "43.6666666667\n",
      "44.0\n",
      "44.3333333333\n",
      "44.6666666667\n",
      "45.0\n",
      "45.3333333333\n",
      "45.6666666667\n",
      "46.0\n",
      "46.3333333333\n",
      "46.6666666667\n",
      "47.0\n",
      "47.3333333333\n",
      "47.6666666667\n",
      "48.0\n",
      "48.3333333333\n",
      "48.6666666667\n",
      "49.0\n",
      "49.3333333333\n",
      "49.6666666667\n",
      "50.0\n",
      "50.3333333333\n",
      "50.6666666667\n",
      "51.0\n",
      "51.3333333333\n",
      "51.6666666667\n",
      "52.0\n",
      "52.3333333333\n",
      "52.6666666667\n",
      "53.0\n",
      "53.3333333333\n",
      "53.6666666667\n",
      "54.0\n",
      "54.3333333333\n",
      "54.6666666667\n",
      "55.0\n",
      "55.3333333333\n",
      "55.6666666667\n",
      "56.0\n",
      "56.3333333333\n",
      "56.6666666667\n",
      "57.0\n",
      "57.3333333333\n",
      "57.6666666667\n",
      "58.0\n",
      "58.3333333333\n",
      "58.6666666667\n",
      "59.0\n",
      "59.3333333333\n",
      "59.6666666667\n",
      "60.0\n",
      "60.3333333333\n",
      "60.6666666667\n",
      "61.0\n",
      "61.3333333333\n",
      "61.6666666667\n",
      "62.0\n",
      "62.3333333333\n",
      "62.6666666667\n",
      "63.0\n",
      "63.3333333333\n",
      "63.6666666667\n",
      "64.0\n",
      "64.3333333333\n",
      "64.6666666667\n",
      "65.0\n",
      "65.3333333333\n",
      "65.6666666667\n",
      "66.0\n",
      "66.3333333333\n",
      "66.6666666667\n",
      "67.0\n",
      "67.3333333333\n",
      "67.6666666667\n",
      "68.0\n",
      "68.3333333333\n",
      "68.6666666667\n",
      "69.0\n",
      "69.3333333333\n",
      "69.6666666667\n",
      "70.0\n",
      "70.3333333333\n",
      "70.6666666667\n",
      "71.0\n",
      "71.3333333333\n",
      "71.6666666667\n",
      "72.0\n",
      "72.3333333333\n",
      "72.6666666667\n",
      "73.0\n",
      "73.3333333333\n",
      "73.6666666667\n",
      "74.0\n",
      "74.3333333333\n",
      "74.6666666667\n",
      "75.0\n",
      "75.3333333333\n",
      "75.6666666667\n",
      "76.0\n",
      "76.3333333333\n",
      "76.6666666667\n",
      "77.0\n",
      "77.3333333333\n",
      "77.6666666667\n",
      "78.0\n",
      "78.3333333333\n",
      "78.6666666667\n",
      "79.0\n",
      "79.3333333333\n",
      "79.6666666667\n",
      "80.0\n",
      "80.3333333333\n",
      "80.6666666667\n",
      "81.0\n",
      "81.3333333333\n",
      "81.6666666667\n",
      "82.0\n",
      "82.3333333333\n",
      "82.6666666667\n",
      "83.0\n",
      "83.3333333333\n",
      "83.6666666667\n",
      "84.0\n",
      "84.3333333333\n",
      "84.6666666667\n",
      "85.0\n",
      "85.3333333333\n",
      "85.6666666667\n",
      "86.0\n",
      "86.3333333333\n",
      "86.6666666667\n",
      "87.0\n",
      "87.3333333333\n",
      "87.6666666667\n",
      "88.0\n",
      "88.3333333333\n",
      "88.6666666667\n",
      "89.0\n",
      "89.3333333333\n",
      "89.6666666667\n",
      "90.0\n",
      "90.3333333333\n",
      "90.6666666667\n",
      "91.0\n",
      "91.3333333333\n",
      "91.6666666667\n",
      "92.0\n",
      "92.3333333333\n",
      "92.6666666667\n",
      "93.0\n",
      "93.3333333333\n",
      "93.6666666667\n",
      "94.0\n",
      "94.3333333333\n",
      "94.6666666667\n",
      "95.0\n",
      "95.3333333333\n",
      "95.6666666667\n",
      "96.0\n",
      "96.3333333333\n",
      "96.6666666667\n",
      "97.0\n",
      "97.3333333333\n",
      "97.6666666667\n",
      "98.0\n",
      "98.3333333333\n",
      "98.6666666667\n",
      "99.0\n",
      "99.3333333333\n",
      "99.6666666667\n"
     ]
    }
   ],
   "source": [
    "print(accu.argmax(axis = 0)[1])\n",
    "acc0, fracerr0 = Train_it(num[accu.argmax(axis = 1)[1]], 300)"
   ]
  },
  {
   "cell_type": "code",
   "execution_count": 21,
   "metadata": {
    "collapsed": false,
    "scrolled": false
   },
   "outputs": [
    {
     "name": "stdout",
     "output_type": "stream",
     "text": [
      "[[  667.82541595  1335.21329678]\n",
      " [  669.70292361  1339.23972114]\n",
      " [  668.38518586  1336.7722443 ]\n",
      " [  669.54399727  1338.26474686]\n",
      " [  668.27472994  1336.56296214]\n",
      " [  670.05648371  1339.45138045]\n",
      " [  669.78625423  1339.08064685]\n",
      " [  669.777339    1339.23332932]\n",
      " [  669.81696169  1339.41376822]\n",
      " [  669.17262093  1337.88247572]]\n"
     ]
    }
   ],
   "source": [
    "print(fracerr)"
   ]
  },
  {
   "cell_type": "code",
   "execution_count": 11,
   "metadata": {
    "collapsed": false
   },
   "outputs": [],
   "source": [
    "np.save(\"Accuracy_Data_run_16\", acc0)"
   ]
  },
  {
   "cell_type": "code",
   "execution_count": 13,
   "metadata": {
    "collapsed": false
   },
   "outputs": [
    {
     "name": "stdout",
     "output_type": "stream",
     "text": [
      "0.952261306533\n",
      "0.952261306533\n"
     ]
    },
    {
     "data": {
      "image/png": "[encoded data removed]",
      "text/plain": [
       "<matplotlib.figure.Figure at 0x7f5f5ec09410>"
      ]
     },
     "metadata": {},
     "output_type": "display_data"
    }
   ],
   "source": [
    "plt.plot(acc0)\n",
    "print(np.amax(acc0))\n",
    "print(acc0[-1])"
   ]
  },
  {
   "cell_type": "code",
   "execution_count": 25,
   "metadata": {
    "collapsed": false
   },
   "outputs": [],
   "source": [
    "def plot_epochs(az_angle, eleva):\n",
    "    fig = plt.figure(figsize=(15, 10))\n",
    "    ax = fig.add_subplot(111, projection='3d')\n",
    "    X, Y = np.meshgrid(np.linspace(0,200,200), np.linspace(0,10, 10))\n",
    "    ax.plot_surface(np.linspace(0,100,100),fracerr, accu)\n",
    "    ax.view_init(elev=eleva, azim=az_angle)"
   ]
  },
  {
   "cell_type": "code",
   "execution_count": 26,
   "metadata": {
    "collapsed": false
   },
   "outputs": [
    {
     "data": {
      "image/png": "[encoded data removed]",
      "text/plain": [
       "<matplotlib.figure.Figure at 0x7f75c1a7b290>"
      ]
     },
     "metadata": {},
     "output_type": "display_data"
    }
   ],
   "source": [
    "widg.interact(plot_epochs, az_angle=(0, 360, 1), eleva=(0,20,1))"
   ]
  },
  {
   "cell_type": "code",
   "execution_count": 10,
   "metadata": {
    "collapsed": false
   },
   "outputs": [
    {
     "name": "stdout",
     "output_type": "stream",
     "text": [
      "([0.92587939698492461, 0.914572864321608, 0.91080402010050254, 0.87185929648241201, 0.90577889447236182, 0.91708542713567842, 0.91331658291457285, 0.90829145728643212, 0.92462311557788945, 0.91959798994974873, 0.89698492462311563, 0.914572864321608, 0.914572864321608, 0.91708542713567842, 0.93341708542713564, 0.93090452261306533, 0.90703517587939697, 0.93341708542713564, 0.92085427135678388, 0.91959798994974873, 0.89447236180904521, 0.91959798994974873, 0.89949748743718594, 0.93090452261306533, 0.92713567839195976, 0.91959798994974873, 0.90326633165829151, 0.88316582914572861, 0.90954773869346739, 0.92085427135678388, 0.90954773869346739, 0.90201005025125625, 0.93216080402010049, 0.90075376884422109, 0.90201005025125625, 0.91331658291457285, 0.9120603015075377, 0.90703517587939697, 0.93341708542713564, 0.91080402010050254, 0.9233668341708543, 0.90577889447236182, 0.93090452261306533, 0.9346733668341709, 0.91080402010050254, 0.92085427135678388, 0.89949748743718594, 0.90577889447236182, 0.92587939698492461, 0.90075376884422109], [665.33322314041993, 665.41809088732896, 666.06267905868879, 666.56847251040801, 666.02718624895761, 667.34202131726477, 666.75480802379764, 667.39533920312567, 668.29842255438064, 667.78008432522154, 666.59077027312378, 666.13395852406961, 665.89302926450341, 666.13841333659832, 666.58842910850922, 667.00761074982711, 666.38500947741534, 666.41208685683114, 666.99551309933531, 667.81436626606649, 665.92767854810495, 667.1045077291692, 666.85205441500898, 667.88288114987688, 667.43811462042663, 666.15871852929138, 666.8903893175974, 667.06964723397266, 667.85430738000741, 667.44622115221068, 666.65595939117588, 665.63609119108696, 666.09162117950518, 667.24463085663047, 666.43128957735132, 666.8648824267907, 667.11468612780982, 665.92015534416475, 665.94647406932768, 665.90525780436087, 665.42224355225994, 668.62239217850686, 666.43283666937657, 667.28289945657843, 668.27742212730709, 667.71759134607771, 667.4240892267901, 666.41040892501974, 667.29040984259871, 666.57454135583691])\n"
     ]
    }
   ],
   "source": [
    "acc_max = []\n",
    "fract_err = []\n",
    "for i in range(50):\n",
    "    acc_max.append(np.amax(accu[i]))\n",
    "    fract_err.append(fracerr[i][0])\n",
    "print(acc_max,fract_err)"
   ]
  },
  {
   "cell_type": "code",
   "execution_count": 11,
   "metadata": {
    "collapsed": false
   },
   "outputs": [
    {
     "data": {
      "text/plain": [
       "[<matplotlib.lines.Line2D at 0x7f355280edd0>]"
      ]
     },
     "execution_count": 11,
     "metadata": {},
     "output_type": "execute_result"
    },
    {
     "data": {
      "image/png": "[encoded data removed]",
      "text/plain": [
       "<matplotlib.figure.Figure at 0x7f357a7a8750>"
      ]
     },
     "metadata": {},
     "output_type": "display_data"
    }
   ],
   "source": [
    "plt.plot(fract_err, acc_max, \"ro\")"
   ]
  },
  {
   "cell_type": "code",
   "execution_count": 12,
   "metadata": {
    "collapsed": false
   },
   "outputs": [
    {
     "data": {
      "text/plain": [
       "(0.050482614923083119, 0.72772045942019747)"
      ]
     },
     "execution_count": 12,
     "metadata": {},
     "output_type": "execute_result"
    }
   ],
   "source": [
    "sts.pearsonr(fract_err, acc_max)"
   ]
  },
  {
   "cell_type": "code",
   "execution_count": null,
   "metadata": {
    "collapsed": true
   },
   "outputs": [],
   "source": []
  }
 ],
 "metadata": {
  "kernelspec": {
   "display_name": "Python 2",
   "language": "python",
   "name": "python2"
  },
  "language_info": {
   "codemirror_mode": {
    "name": "ipython",
    "version": 2
   },
   "file_extension": ".py",
   "mimetype": "text/x-python",
   "name": "python",
   "nbconvert_exporter": "python",
   "pygments_lexer": "ipython2",
   "version": "2.7.6"
  }
 },
 "nbformat": 4,
 "nbformat_minor": 0
}
